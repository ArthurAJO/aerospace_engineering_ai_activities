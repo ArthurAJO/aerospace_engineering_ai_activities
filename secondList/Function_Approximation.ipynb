{
  "nbformat": 4,
  "nbformat_minor": 0,
  "metadata": {
    "colab": {
      "name": "Function Approximation.ipynb",
      "provenance": [],
      "authorship_tag": "ABX9TyNiS0Sd0OlZ9PfxgTwlGSOA",
      "include_colab_link": true
    },
    "kernelspec": {
      "name": "python3",
      "display_name": "Python 3"
    },
    "language_info": {
      "name": "python"
    }
  },
  "cells": [
    {
      "cell_type": "markdown",
      "metadata": {
        "id": "view-in-github",
        "colab_type": "text"
      },
      "source": [
        "<a href=\"https://colab.research.google.com/github/ArthurAJO/aerospace_engineering_ai_activities/blob/main/secondList/Function_Approximation.ipynb\" target=\"_parent\"><img src=\"https://colab.research.google.com/assets/colab-badge.svg\" alt=\"Open In Colab\"/></a>"
      ]
    },
    {
      "cell_type": "markdown",
      "source": [
        "Nome: Arthur Augusto J de Oliveira\\\n",
        "Matrícula: 2016021645\n",
        "\n",
        "**Link do notebook deste Google Colab: https://colab.research.google.com/drive/13PH7yPRQ3BuRWBaqWcWdyT5wbaHsplXd#scrollTo=TV6ddBVZ0_Kc**\n",
        "\n",
        "## 3. Aproximação de funções\n",
        "\n",
        "Com o intuito de observar a capacidade do MLP de aproximar qualquer\n",
        "função contínua, será realizada a regressão de um intervalo da função seno\n",
        "cardinal (sinc(x)) com backpropagation. A função de ativação da camada\n",
        "de saída deve ser linear, e o número de neurônios na camada escondida deve\n",
        "ser modificado com o intuito de se encontrar a melhor aproximação para a\n",
        "função.\n",
        "Devem ser realizadas duas execuções do modelo, sendo uma com um\n",
        "número de amostras de treinamento igual a 45 e a outra 200, sendo x\n",
        "amostrado entre −2π e 2π. O valor da função sinc(x) deve ser acrescido\n",
        "a um ruído uniforme, amostrado no intervalo [−0.1, 0.1]. O conjunto de teste\n",
        "deve ser composto de valores de x entre [−2π, 2π], obtidos com passo δ = 0.01\n",
        "e y = sinc(x), sendo:\n",
        "\n",
        "sinc(x) = sin(x)/x\n",
        "\n",
        "Para cada execução do modelo, modificando-se os dados de treinamento,\n",
        "deve ser calculado o erro quadrático médio (MSE) e um gráfico comparando\n",
        "a saída da funação aproximada e os valores esperados de y."
      ],
      "metadata": {
        "id": "TV6ddBVZ0_Kc"
      }
    },
    {
      "cell_type": "markdown",
      "source": [
        "## Inicialização\n",
        "\n",
        "Imports e comunicação com o repositório do GitHub que contém o banco de dados para os programas."
      ],
      "metadata": {
        "id": "9ln_l-qs6agH"
      }
    },
    {
      "cell_type": "code",
      "execution_count": null,
      "metadata": {
        "id": "XWfM5ZEIJ0Hj"
      },
      "outputs": [],
      "source": [
        "import numpy as np\n",
        "import matplotlib.pyplot as plt\n",
        "import pandas as pd\n",
        "from sklearn.utils import shuffle\n",
        "\n",
        "!git clone https://github.com/ArthurAJO/aerospace_engineering_ai_activities.git"
      ]
    }
  ]
}