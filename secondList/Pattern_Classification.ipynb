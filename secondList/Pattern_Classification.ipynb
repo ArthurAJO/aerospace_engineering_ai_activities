{
  "nbformat": 4,
  "nbformat_minor": 0,
  "metadata": {
    "colab": {
      "name": "Pattern Classification.ipynb",
      "provenance": [],
      "collapsed_sections": [],
      "authorship_tag": "ABX9TyPLcg0kCwCueNuUxJirC+KY",
      "include_colab_link": true
    },
    "kernelspec": {
      "name": "python3",
      "display_name": "Python 3"
    },
    "language_info": {
      "name": "python"
    }
  },
  "cells": [
    {
      "cell_type": "markdown",
      "metadata": {
        "id": "view-in-github",
        "colab_type": "text"
      },
      "source": [
        "<a href=\"https://colab.research.google.com/github/ArthurAJO/aerospace_engineering_ai_activities/blob/main/secondList/Pattern_Classification.ipynb\" target=\"_parent\"><img src=\"https://colab.research.google.com/assets/colab-badge.svg\" alt=\"Open In Colab\"/></a>"
      ]
    },
    {
      "cell_type": "markdown",
      "source": [
        "Nome: Arthur Augusto J de Oliveira\\\n",
        "Matrícula: 2016021645\n",
        "\n",
        "**Link do notebook deste Google Colab: https://colab.research.google.com/drive/1b99rBtXLqWUVkwj8ft69xJ-r3hqOuTJR#scrollTo=lI-XVwXv03A5**\n",
        "\n",
        "## 1. Classificação de padrões\n",
        "\n",
        "Para o exercício de classificação de padrões, o aluno deve utilizar as arquiteturas de rede introduzidas durante a matéria para realizar a classificação entre amostras de duas classes, apresentadas abaixo.\n",
        "\n",
        "### Arquiteturas de rede a serem desenvolvidas\n",
        "\n",
        "Para a classificação dos problemas acima, deve-se aplicar as seguintes arquiteturas de rede, tendo seus valores de acurácia e, caso aplicável, o número\n",
        "de neurônios na camada escondida comparados entre si:\n",
        "\n",
        "* Perceptron Simples\n",
        "* ELM\n",
        "* Perceptron de múltiplas camadas"
      ],
      "metadata": {
        "id": "lI-XVwXv03A5"
      }
    },
    {
      "cell_type": "markdown",
      "source": [
        "## Inicialização\n",
        "\n",
        "Imports e comunicação com o repositório do GitHub que contém o banco de dados para os programas."
      ],
      "metadata": {
        "id": "9ln_l-qs6agH"
      }
    },
    {
      "cell_type": "code",
      "source": [
        "import numpy as np\n",
        "import matplotlib.pyplot as plt\n",
        "import pandas as pd\n",
        "from sklearn.utils import shuffle\n",
        "\n",
        "!git clone https://github.com/ArthurAJO/aerospace_engineering_ai_activities.git"
      ],
      "metadata": {
        "id": "5rHPwIFe6ZTA",
        "outputId": "1fc0813e-4959-4c2c-8734-e4c984e9f44e",
        "colab": {
          "base_uri": "https://localhost:8080/"
        }
      },
      "execution_count": 1,
      "outputs": [
        {
          "output_type": "stream",
          "name": "stdout",
          "text": [
            "Cloning into 'aerospace_engineering_ai_activities'...\n",
            "remote: Enumerating objects: 55, done.\u001b[K\n",
            "remote: Counting objects: 100% (55/55), done.\u001b[K\n",
            "remote: Compressing objects: 100% (52/52), done.\u001b[K\n",
            "remote: Total 55 (delta 16), reused 0 (delta 0), pack-reused 0\u001b[K\n",
            "Unpacking objects: 100% (55/55), done.\n"
          ]
        }
      ]
    },
    {
      "cell_type": "markdown",
      "source": [
        "### Perceptron Simples\n",
        "\n",
        "Abaixo são construídas as funções para a execução da arquitetura de rede Perceptron Simples."
      ],
      "metadata": {
        "id": "50U-W0Ps62cf"
      }
    },
    {
      "cell_type": "markdown",
      "source": [
        "### Perceptron Simples\n",
        "\n",
        "Abaixo são construídas as funções para a execução da arquitetura de rede Perceptron Simples."
      ],
      "metadata": {
        "id": "cwsqn4D3f6kj"
      }
    },
    {
      "cell_type": "code",
      "source": [
        "def trainPerceptron(x,y,eta,tol,max_epocas,par):\n",
        "    if par == 1:\n",
        "        bias = np.ones((x.shape[0],1))\n",
        "        x = np.concatenate((x,bias), axis = 1)\n",
        "        \n",
        "    N_perceptron = x.shape[0]\n",
        "    n_perceptron = x.shape[1]\n",
        "    w = np.random.rand(n_perceptron) - 0.5 \n",
        "    w = np.resize(w,(w.shape[0],1))\n",
        "    n_epocas = 0\n",
        "    erro_epoca = 1 + tol\n",
        "    evec = erro_epoca * np.ones(max_epocas)\n",
        "    \n",
        "    while erro_epoca > tol and n_epocas < max_epocas - 1:\n",
        "        e_i2 = 0\n",
        "        xseq = np.arange(N_perceptron)\n",
        "        np.random.shuffle(xseq)\n",
        "        \n",
        "        for i in range(N_perceptron):\n",
        "            i_rand = xseq[i]\n",
        "            yhat_i = np.multiply(np.dot(x[i_rand],w) >= 0, 1)\n",
        "            e_i = y[i_rand] - yhat_i\n",
        "            dw = eta * e_i * x[i_rand]\n",
        "            dw = np.resize(dw,(dw.shape[0],1))\n",
        "            w = w + dw\n",
        "            e_i2 = e_i2 + e_i * e_i\n",
        "        \n",
        "        n_epocas += 1\n",
        "        evec[n_epocas] = e_i2/N_perceptron\n",
        "        erro_epoca = evec[n_epocas]\n",
        "        \n",
        "    return w, evec[0:n_epocas]\n",
        "\n",
        "def yPerceptron(x, w, par):\n",
        "    if par == 0:\n",
        "        x = np.concatenate((x,np.ones((x.shape[0],1))), axis = 1)\n",
        "\n",
        "    w = np.resize(w, (x.shape[1],1))\n",
        "    y_eval = np.dot(x,w)\n",
        "    class_eval = np.squeeze(np.multiply(np.dot(x,w) >= 0, 1))\n",
        "    \n",
        "    return y_eval, class_eval"
      ],
      "metadata": {
        "id": "4amB4tkf7O-I"
      },
      "execution_count": 2,
      "outputs": []
    },
    {
      "cell_type": "markdown",
      "source": [
        "\n",
        "### 1.1. Distribuições normais\n",
        "Duas distribuições normais no espaço R2, com duas variáveis cada, x1 e x2.\n",
        "As distribuições devem ser caracterizadas como N(μ = (2, 2), σ = 0.4) e\n",
        "N(μ = (4, 4), σ = 0.4) (a inicialização das classes foi demonstrada durante a\n",
        "aula)."
      ],
      "metadata": {
        "id": "fg5aLfwU1EH2"
      }
    },
    {
      "cell_type": "markdown",
      "source": [
        "###1.1.1 Dados para a construção da distribuição normal"
      ],
      "metadata": {
        "id": "Vul-zLKmAYW9"
      }
    },
    {
      "cell_type": "code",
      "execution_count": null,
      "metadata": {
        "id": "WiPu9bsut9_R"
      },
      "outputs": [],
      "source": [
        "N = 100\n",
        "\n",
        "# 70% for train and 30% for test\n",
        "trainSize = int(0.7*N)\n",
        "testSize = N - trainSize\n",
        "\n",
        "sigma_1 = 0.4**2\n",
        "sigma_2 = 0.4**2\n",
        "\n",
        "mu_1 = 2\n",
        "mu_2 = 4\n",
        "\n",
        "mean_1 = [mu_1, mu_1]\n",
        "mean_2 = [mu_2, mu_2]\n",
        "\n",
        "cov_1 = [[sigma_1, 0], [0, sigma_1]]\n",
        "cov_2 = [[sigma_2, 0], [0, sigma_2]]\n",
        "\n",
        "# data train\n",
        "x1_train, y1_train = np.random.multivariate_normal(mean_1, cov_1, trainSize).T\n",
        "x2_train, y2_train = np.random.multivariate_normal(mean_2, cov_2, trainSize).T\n",
        "\n",
        "x1_train = np.resize(x1_train, (trainSize, 1))\n",
        "y1_train = np.resize(y1_train, (trainSize, 1))\n",
        "\n",
        "x2_train = np.resize(x2_train, (trainSize, 1))\n",
        "y2_train = np.resize(y2_train, (trainSize, 1))\n",
        "\n",
        "# data test\n",
        "x1_test, y1_test = np.random.multivariate_normal(mean_1, cov_1, testSize).T\n",
        "x2_test, y2_test = np.random.multivariate_normal(mean_2, cov_2, testSize).T\n",
        "\n",
        "x1_test = np.resize(x1_test, (testSize, 1))\n",
        "y1_test = np.resize(y1_test, (testSize, 1))\n",
        "\n",
        "x2_test = np.resize(x2_test, (testSize, 1))\n",
        "y2_test = np.resize(y2_test, (testSize, 1))"
      ]
    },
    {
      "cell_type": "markdown",
      "source": [
        "###1.1.2 Perceptron Simples"
      ],
      "metadata": {
        "id": "zAew42tmifZc"
      }
    },
    {
      "cell_type": "markdown",
      "source": [
        "###1.1.3 ELM"
      ],
      "metadata": {
        "id": "MRJkXZ6fifQF"
      }
    },
    {
      "cell_type": "markdown",
      "source": [
        "###1.1.4 Perceptron de múltiplas camadas - MLP (MultiLayer Perceptron)"
      ],
      "metadata": {
        "id": "PCHhHUQDifD9"
      }
    },
    {
      "cell_type": "markdown",
      "source": [
        "###1.2 XOR\n",
        "\n",
        "Utilizar os modelos desenvolvidos anteriormente para classificar o problemas\n",
        "do ou-exclusivo. Os dados em arquivo .csv serão disponibilizados junto do\n",
        "enunciado do exercício no moodle.\n",
        "\n",
        "###1.2.1 Conexão com banco de dados"
      ],
      "metadata": {
        "id": "R9I-6DGH02FR"
      }
    },
    {
      "cell_type": "code",
      "source": [
        "dataFrameXOR = pd.read_csv('aerospace_engineering_ai_activities/secondList/dataset/xor.csv')\n",
        "dataFrameXOR = shuffle(dataFrameXOR)"
      ],
      "metadata": {
        "id": "sytQgHX51WjA"
      },
      "execution_count": 3,
      "outputs": []
    },
    {
      "cell_type": "markdown",
      "source": [
        "### 1.2.2 Perceptron Simples"
      ],
      "metadata": {
        "id": "kDYXqxCjhIXA"
      }
    },
    {
      "cell_type": "markdown",
      "source": [
        "###1.2.3 ELM"
      ],
      "metadata": {
        "id": "gnDszLZBhILC"
      }
    },
    {
      "cell_type": "markdown",
      "source": [
        "###1.2.4 Perceptron de múltiplas camadas - MLP (MultiLayer Perceptron)"
      ],
      "metadata": {
        "id": "x6iS-s7IhH_C"
      }
    },
    {
      "cell_type": "markdown",
      "source": [
        "###1.3 Spirals\n",
        "\n",
        "Assim como para o problema do ou-exclusivo, utilizar as arquiteturas de\n",
        "rede aprendidas durante a matéria para realizar o treinamento e separação do\n",
        "problema das espirais, cujos dados estão também disponibilizados no moodle.\n",
        "\n"
      ],
      "metadata": {
        "id": "LQBBGeaJ1W4y"
      }
    },
    {
      "cell_type": "markdown",
      "source": [
        "###1.3.1 Conexão com banco de dados"
      ],
      "metadata": {
        "id": "7qQD0n28hb5R"
      }
    },
    {
      "cell_type": "code",
      "source": [
        "dataFrameSpirals = pd.read_csv('aerospace_engineering_ai_activities/secondList/dataset/spirals.csv')\n",
        "dataFrameSpirals = shuffle(dataFrameSpirals)"
      ],
      "metadata": {
        "id": "GyJA1sGz1fSe"
      },
      "execution_count": null,
      "outputs": []
    },
    {
      "cell_type": "markdown",
      "source": [
        "###1.3.2 Perceptron Simples"
      ],
      "metadata": {
        "id": "XrfVLuHthP9F"
      }
    },
    {
      "cell_type": "code",
      "source": [
        ""
      ],
      "metadata": {
        "id": "B-7KVFWUhdsK"
      },
      "execution_count": null,
      "outputs": []
    },
    {
      "cell_type": "markdown",
      "source": [
        "###1.3.3 ELM"
      ],
      "metadata": {
        "id": "ZIRaLfsPhPuV"
      }
    },
    {
      "cell_type": "code",
      "source": [
        ""
      ],
      "metadata": {
        "id": "wvdQDiyAhesZ"
      },
      "execution_count": null,
      "outputs": []
    },
    {
      "cell_type": "markdown",
      "source": [
        "###1.3.4 Perceptron de múltiplas camadas - MLP (MultiLayer Perceptron)"
      ],
      "metadata": {
        "id": "9_JaL6NQhPYf"
      }
    },
    {
      "cell_type": "code",
      "source": [
        ""
      ],
      "metadata": {
        "id": "5g46EaG6hgDT"
      },
      "execution_count": null,
      "outputs": []
    }
  ]
}