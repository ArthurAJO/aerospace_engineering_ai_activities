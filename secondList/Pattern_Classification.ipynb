{
  "nbformat": 4,
  "nbformat_minor": 0,
  "metadata": {
    "colab": {
      "name": "Pattern Classification.ipynb",
      "provenance": [],
      "collapsed_sections": [],
      "authorship_tag": "ABX9TyPuPD2DYwlT/NONCOehYEvH",
      "include_colab_link": true
    },
    "kernelspec": {
      "name": "python3",
      "display_name": "Python 3"
    },
    "language_info": {
      "name": "python"
    }
  },
  "cells": [
    {
      "cell_type": "markdown",
      "metadata": {
        "id": "view-in-github",
        "colab_type": "text"
      },
      "source": [
        "<a href=\"https://colab.research.google.com/github/ArthurAJO/aerospace_engineering_ai_activities/blob/main/secondList/Pattern_Classification.ipynb\" target=\"_parent\"><img src=\"https://colab.research.google.com/assets/colab-badge.svg\" alt=\"Open In Colab\"/></a>"
      ]
    },
    {
      "cell_type": "markdown",
      "source": [
        "Nome: Arthur Augusto J de Oliveira\\\n",
        "Matrícula: 2016021645\n",
        "\n",
        "**Link do notebook deste Google Colab: https://colab.research.google.com/drive/1b99rBtXLqWUVkwj8ft69xJ-r3hqOuTJR#scrollTo=lI-XVwXv03A5**\n",
        "\n",
        "## 1. Classificação de padrões\n",
        "\n",
        "Para o exercício de classificação de padrões, o aluno deve utilizar as arquiteturas de rede introduzidas durante a matéria para realizar a classificação entre amostras de duas classes, apresentadas abaixo.\n",
        "\n",
        "### Arquiteturas de rede a serem desenvolvidas\n",
        "\n",
        "Para a classificação dos problemas acima, deve-se aplicar as seguintes arquiteturas de rede, tendo seus valores de acurácia e, caso aplicável, o número\n",
        "de neurônios na camada escondida comparados entre si:\n",
        "\n",
        "* Perceptron Simples\n",
        "* ELM\n",
        "* Perceptron de m´ultiplas camadas"
      ],
      "metadata": {
        "id": "lI-XVwXv03A5"
      }
    },
    {
      "cell_type": "markdown",
      "source": [
        "## Inicialização"
      ],
      "metadata": {
        "id": "9ln_l-qs6agH"
      }
    },
    {
      "cell_type": "code",
      "source": [
        "import numpy as np\n",
        "import matplotlib.pyplot as plt\n",
        "import pandas as pd\n",
        "from sklearn.utils import shuffle"
      ],
      "metadata": {
        "id": "5rHPwIFe6ZTA"
      },
      "execution_count": null,
      "outputs": []
    },
    {
      "cell_type": "markdown",
      "source": [
        "### Perceptron Simples\n",
        "\n",
        "Abaixo são construídas as funções para a execução da arquitetura de rede Perceptron Simples."
      ],
      "metadata": {
        "id": "50U-W0Ps62cf"
      }
    },
    {
      "cell_type": "code",
      "source": [
        "def trainPerceptron(x,y,eta,tol,max_epocas,par):\n",
        "    if par == 1:\n",
        "        bias = np.ones((x.shape[0],1))\n",
        "        x = np.concatenate((x,bias), axis = 1)\n",
        "        \n",
        "    N_perceptron = x.shape[0]\n",
        "    n_perceptron = x.shape[1]\n",
        "    w = np.random.rand(n_perceptron) - 0.5 \n",
        "    w = np.resize(w,(w.shape[0],1))\n",
        "    n_epocas = 0\n",
        "    erro_epoca = 1 + tol\n",
        "    evec = erro_epoca * np.ones(max_epocas)\n",
        "    \n",
        "    while erro_epoca > tol and n_epocas < max_epocas - 1:\n",
        "        e_i2 = 0\n",
        "        xseq = np.arange(N_perceptron)\n",
        "        np.random.shuffle(xseq)\n",
        "        \n",
        "        for i in range(N_perceptron):\n",
        "            i_rand = xseq[i]\n",
        "            yhat_i = np.multiply(np.dot(x[i_rand],w) >= 0, 1)\n",
        "            e_i = y[i_rand] - yhat_i\n",
        "            dw = eta * e_i * x[i_rand]\n",
        "            dw = np.resize(dw,(dw.shape[0],1))\n",
        "            w = w + dw\n",
        "            e_i2 = e_i2 + e_i * e_i\n",
        "        \n",
        "        n_epocas += 1\n",
        "        evec[n_epocas] = e_i2/N_perceptron\n",
        "        erro_epoca = evec[n_epocas]\n",
        "        \n",
        "    return w, evec[0:n_epocas]\n",
        "\n",
        "def yPerceptron(x, w, par):\n",
        "    if par == 0:\n",
        "        x = np.concatenate((x,np.ones((x.shape[0],1))), axis = 1)\n",
        "\n",
        "    w = np.resize(w, (x.shape[1],1))\n",
        "    y_eval = np.dot(x,w)\n",
        "    class_eval = np.squeeze(np.multiply(np.dot(x,w) >= 0, 1))\n",
        "    \n",
        "    return y_eval, class_eval"
      ],
      "metadata": {
        "id": "4amB4tkf7O-I"
      },
      "execution_count": null,
      "outputs": []
    },
    {
      "cell_type": "markdown",
      "source": [
        "\n",
        "### 1.1. Distribuições normais\n",
        "Duas distribuições normais no espaço R2, com duas variáveis cada, x1 e x2.\n",
        "As distribuições devem ser caracterizadas como N(μ = (2, 2), σ = 0.4) e\n",
        "N(μ = (4, 4), σ = 0.4) (a inicialização das classes foi demonstrada durante a\n",
        "aula)."
      ],
      "metadata": {
        "id": "fg5aLfwU1EH2"
      }
    },
    {
      "cell_type": "markdown",
      "source": [
        "1.   Obteção dos dados"
      ],
      "metadata": {
        "id": "Vul-zLKmAYW9"
      }
    },
    {
      "cell_type": "code",
      "execution_count": null,
      "metadata": {
        "id": "WiPu9bsut9_R"
      },
      "outputs": [],
      "source": [
        ""
      ]
    },
    {
      "cell_type": "markdown",
      "source": [
        "###1.2 XOR\n",
        "\n",
        "Utilizar os modelos desenvolvidos anteriormente para classificar o problemas\n",
        "do ou-exclusivo. Os dados em arquivo .csv serão disponibilizados junto do\n",
        "enunciado do exercício no moodle.\n",
        "\n",
        "###1.2.1 Conexão com banco de dados"
      ],
      "metadata": {
        "id": "R9I-6DGH02FR"
      }
    },
    {
      "cell_type": "code",
      "source": [
        "dataFrameXOR = pd.read_csv('../secondList/dataset/xor.csv')\n",
        "dataFrameXOR = shuffle(dataFrameXOR)"
      ],
      "metadata": {
        "colab": {
          "base_uri": "https://localhost:8080/",
          "height": 182
        },
        "id": "sytQgHX51WjA",
        "outputId": "8353e44a-0e72-474f-938a-1e98606e9c43"
      },
      "execution_count": 5,
      "outputs": [
        {
          "output_type": "error",
          "ename": "NameError",
          "evalue": "ignored",
          "traceback": [
            "\u001b[0;31m---------------------------------------------------------------------------\u001b[0m",
            "\u001b[0;31mNameError\u001b[0m                                 Traceback (most recent call last)",
            "\u001b[0;32m<ipython-input-5-8ba608e1a55b>\u001b[0m in \u001b[0;36m<module>\u001b[0;34m()\u001b[0m\n\u001b[0;32m----> 1\u001b[0;31m \u001b[0mdataFrameXOR\u001b[0m \u001b[0;34m=\u001b[0m \u001b[0mpd\u001b[0m\u001b[0;34m.\u001b[0m\u001b[0mread_csv\u001b[0m\u001b[0;34m(\u001b[0m\u001b[0;34m'..secondList/dataset/xor.csv'\u001b[0m\u001b[0;34m)\u001b[0m\u001b[0;34m\u001b[0m\u001b[0;34m\u001b[0m\u001b[0m\n\u001b[0m\u001b[1;32m      2\u001b[0m \u001b[0mdataFrameXOR\u001b[0m \u001b[0;34m=\u001b[0m \u001b[0mshuffle\u001b[0m\u001b[0;34m(\u001b[0m\u001b[0mdataFrameXOR\u001b[0m\u001b[0;34m)\u001b[0m\u001b[0;34m\u001b[0m\u001b[0;34m\u001b[0m\u001b[0m\n",
            "\u001b[0;31mNameError\u001b[0m: name 'pd' is not defined"
          ]
        }
      ]
    },
    {
      "cell_type": "markdown",
      "source": [
        "###1.3 Spirals\n",
        "\n",
        "Assim como para o problema do ou-exclusivo, utilizar as arquiteturas de\n",
        "rede aprendidas durante a matéria para realizar o treinamento e separação do\n",
        "problema das espirais, cujos dados estão também disponibilizados no moodle.\n",
        "\n",
        "###1.3.1 Conexão com banco de dados"
      ],
      "metadata": {
        "id": "LQBBGeaJ1W4y"
      }
    },
    {
      "cell_type": "code",
      "source": [
        "dataFrameSpirals = pd.read_csv('../secondList/dataset/spirals.csv')\n",
        "dataFrameSpirals = shuffle(dataFrameSpirals)"
      ],
      "metadata": {
        "id": "GyJA1sGz1fSe"
      },
      "execution_count": null,
      "outputs": []
    }
  ]
}