{
  "nbformat": 4,
  "nbformat_minor": 0,
  "metadata": {
    "colab": {
      "name": "Real Data Classification.ipynb",
      "provenance": [],
      "authorship_tag": "ABX9TyMF5YpsM/Yh1ggxRwtb9MEw",
      "include_colab_link": true
    },
    "kernelspec": {
      "name": "python3",
      "display_name": "Python 3"
    },
    "language_info": {
      "name": "python"
    }
  },
  "cells": [
    {
      "cell_type": "markdown",
      "metadata": {
        "id": "view-in-github",
        "colab_type": "text"
      },
      "source": [
        "<a href=\"https://colab.research.google.com/github/ArthurAJO/aerospace_engineering_ai_activities/blob/main/secondList/Real_Data_Classification.ipynb\" target=\"_parent\"><img src=\"https://colab.research.google.com/assets/colab-badge.svg\" alt=\"Open In Colab\"/></a>"
      ]
    },
    {
      "cell_type": "markdown",
      "source": [
        "Nome: Arthur Augusto J de Oliveira\\\n",
        "Matrícula: 2016021645\n",
        "\n",
        "**Link do notebook deste Google Colab: https://colab.research.google.com/drive/1prUDp3wuNmMWXF_S70wNEyvu2WpMA6DX#scrollTo=Y_tu1qJKL4KP**\n",
        "\n"
      ],
      "metadata": {
        "id": "pqETi89GL2dG"
      }
    },
    {
      "cell_type": "markdown",
      "source": [
        "## 2. Classificação de dados reais\n",
        "\n",
        "Após o desenvolvimento dos modelos de classificação no exercício anterior,\n",
        "eles podem ser utilizados para a classificação de dados reais. Muitos desses\n",
        "dados são provenientes de repositórios públicos e podem ser utilizados para\n",
        "serem aplicados nos modelos desenvolvidos. Um exemplo de repositório\n",
        "muito utilizado é o da Universidade da California, Irvine (UCI), encontrado\n",
        "no link abaixo.\n",
        "\n",
        "Repositório UCI: https://archive.ics.uci.edu/ml/datasets.php\n",
        "\n",
        "O aluno que tiver interesse pode escolher um dos problemas de classificação encontrado no banco de dados da UCI, porém, para simplificação\n",
        "será disponibilizado um banco de dados no moodle para aplicação nos modelos.\n",
        "Assim como no exercício 1, devem ser utilizadas as seguintes arquiteturas\n",
        "para resolução dos problemas:\n",
        "\n",
        "* Perceptron Simples\n",
        "* ELM\n",
        "* Perceptron de múltiplas camadas"
      ],
      "metadata": {
        "id": "Y_tu1qJKL4KP"
      }
    },
    {
      "cell_type": "markdown",
      "source": [
        "## Inicialização\n",
        "\n",
        "Imports e comunicação com o repositório do GitHub que contém o banco de dados para os programas."
      ],
      "metadata": {
        "id": "9ln_l-qs6agH"
      }
    },
    {
      "cell_type": "code",
      "execution_count": null,
      "metadata": {
        "id": "-uBmDF8qIXeL"
      },
      "outputs": [],
      "source": [
        "import numpy as np\n",
        "import matplotlib.pyplot as plt\n",
        "import pandas as pd\n",
        "from sklearn.utils import shuffle\n",
        "\n",
        "!git clone https://github.com/ArthurAJO/aerospace_engineering_ai_activities.git"
      ]
    },
    {
      "cell_type": "markdown",
      "source": [
        "#Funções das arquiteturas de rede."
      ],
      "metadata": {
        "id": "9zgQAlZ-xE9b"
      }
    },
    {
      "cell_type": "markdown",
      "source": [
        "### Perceptron Simples\n",
        "\n",
        "Abaixo são construídas as funções para a execução da arquitetura de rede Perceptron Simples."
      ],
      "metadata": {
        "id": "cwsqn4D3f6kj"
      }
    },
    {
      "cell_type": "code",
      "source": [
        "def trainPerceptron(x,y,eta,tol,max_epocas,par):\n",
        "    if par == 1:\n",
        "        bias = np.ones((x.shape[0],1))\n",
        "        x = np.concatenate((x,bias), axis = 1)\n",
        "        \n",
        "    N_perceptron = x.shape[0]\n",
        "    n_perceptron = x.shape[1]\n",
        "    w = np.random.rand(n_perceptron) - 0.5 \n",
        "    w = np.resize(w,(w.shape[0],1))\n",
        "    n_epocas = 0\n",
        "    erro_epoca = 1 + tol\n",
        "    evec = erro_epoca * np.ones(max_epocas)\n",
        "    \n",
        "    while erro_epoca > tol and n_epocas < max_epocas - 1:\n",
        "        e_i2 = 0\n",
        "        xseq = np.arange(N_perceptron)\n",
        "        np.random.shuffle(xseq)\n",
        "        \n",
        "        for i in range(N_perceptron):\n",
        "            i_rand = xseq[i]\n",
        "            yhat_i = np.multiply(np.dot(x[i_rand],w) >= 0, 1)\n",
        "            e_i = y[i_rand] - yhat_i\n",
        "            dw = eta * e_i * x[i_rand]\n",
        "            dw = np.resize(dw,(dw.shape[0],1))\n",
        "            w = w + dw\n",
        "            e_i2 = e_i2 + e_i * e_i\n",
        "        \n",
        "        n_epocas += 1\n",
        "        evec[n_epocas] = e_i2/N_perceptron\n",
        "        erro_epoca = evec[n_epocas]\n",
        "        \n",
        "    return w, evec[0:n_epocas]\n",
        "\n",
        "def yPerceptron(x, w, par):\n",
        "    if par == 0:\n",
        "        x = np.concatenate((x,np.ones((x.shape[0],1))), axis = 1)\n",
        "\n",
        "    w = np.resize(w, (x.shape[1],1))\n",
        "    y_eval = np.dot(x,w)\n",
        "    class_eval = np.squeeze(np.multiply(np.dot(x,w) >= 0, 1))\n",
        "    \n",
        "    return y_eval, class_eval"
      ],
      "metadata": {
        "id": "4amB4tkf7O-I"
      },
      "execution_count": null,
      "outputs": []
    },
    {
      "cell_type": "markdown",
      "source": [
        "### ELM\n",
        "\n",
        "Abaixo são construídas as funções para a execução da arquitetura de rede ELM."
      ],
      "metadata": {
        "id": "XLVAuIpNkBHF"
      }
    },
    {
      "cell_type": "code",
      "source": [
        "def trainELMPseudoInverse(x, y, p):\n",
        "    n = np.shape(x)[1]\n",
        "    z = np.random.rand(n, p) - 0.5\n",
        "    z = np.resize(z, (z.shape[0], z.shape[1]))\n",
        "\n",
        "    for _ in range(maxEpocas):\n",
        "        h = np.tanh(np.dot(x, z))\n",
        "        w = np.dot(np.linalg.pinv(h), y)\n",
        "\n",
        "    return z,w\n",
        "\n",
        "def yELM(z, w, test):\n",
        "    w = np.resize(w, (w.shape[0], 1))\n",
        "    classified_H = np.tanh(np.dot(test, z))\n",
        "    classified = np.sign(np.tanh(np.dot(classified_H, w)))\n",
        "    return classified\n",
        "    \n",
        "def errorCalc(yEval, actualClass):\n",
        "    error = np.absolute(actualClass - yEval)\n",
        "    meanError = np.mean(error)\n",
        "    stdError = np.std(error)\n",
        "    accuracy = 1 - meanError\n",
        "    errorTest = (yEval - actualClass)**2\n",
        "    errorTest_MS = np.mean(errorTest)\n",
        "\n",
        "    return accuracy, stdError, errorTest_MS"
      ],
      "metadata": {
        "id": "6Myg0J9XkM8D"
      },
      "execution_count": null,
      "outputs": []
    },
    {
      "cell_type": "markdown",
      "source": [
        "### Perceptron de múltiplas camadas - MLP (MultiLayer Perceptron)\n",
        "\n",
        "Abaixo são construídas as funções para a execução da arquitetura de rede Perceptron de múltiplas camadas - MLP (MultiLayer Perceptron)."
      ],
      "metadata": {
        "id": "50U-W0Ps62cf"
      }
    },
    {
      "cell_type": "code",
      "source": [
        "def activation_y(u):\n",
        "    return np.tanh(u)\n",
        "\n",
        "def derivActivation_y(u):\n",
        "    return (((2/(np.exp(u) + np.exp(-u)))*(2/(np.exp(u) + np.exp(-u)))))\n",
        "\n",
        "def derivActivation_h(u):\n",
        "    return (((2/(np.exp(u) + np.exp(-u)))*(2/(np.exp(u) + np.exp(-u)))))\n",
        "\n",
        "def activation_h(u):\n",
        "    return np.tanh(u)\n",
        "\n",
        "def trainMLP(x, y, p, eta, tol, maxEpocas):\n",
        "    m = y.shape[1]\n",
        "    n = np.shape(x)[1] \n",
        "    N = np.shape(x)[0]\n",
        "    z = np.matrix(np.random.rand(n+1,p)-0.5)\n",
        "    w = np.matrix(np.random.rand(p+1,m)-0.5)\n",
        "    \n",
        "    xAtual = np.zeros((1, n+1))\n",
        "    nEpocas = 0\n",
        "    erroEpoca = tol+1\n",
        "    evec = [[0]]\n",
        "\n",
        "    while erroEpoca > tol and nEpocas < maxEpocas - 1:\n",
        "        ei2 = 0\n",
        "        xseq = np.arange(N)\n",
        "\n",
        "        for i in range(N):\n",
        "            irand = xseq[i]\n",
        "            xAtual[0,:-1] = x[irand]\n",
        "            xAtual[0,-1] = 1\n",
        "            yAtual = y[irand]\n",
        "\n",
        "            U = np.array(np.dot(xAtual,z), ndmin = 2)\n",
        "            h_i = activation_h(U)\n",
        "            hBias = np.append(h_i,[[1]],axis=1)\n",
        "\n",
        "            yhat_i = np.array(np.dot(hBias, w), ndmin=2)\n",
        "            yhatClass_i = activation_y(yhat_i)\n",
        "\n",
        "            e_i = yAtual - yhatClass_i\n",
        "            flinhaO = derivActivation_y(yhat_i)\n",
        "            dO= e_i*flinhaO\n",
        "\n",
        "            wMinus = w[:-1, :]\n",
        "            eHidden = np.dot(dO, wMinus.T)\n",
        "            flinhaU = derivActivation_h(U)\n",
        "            dU = np.multiply(eHidden, flinhaU)\n",
        "\n",
        "            w = w +eta*np.dot(hBias.T, dO)\n",
        "            z = z +eta*np.dot(xAtual.T, dU)\n",
        "            ei2 = ei2 + np.dot(e_i, e_i.T)\n",
        "\n",
        "        if nEpocas == 0: evec[0] = np.squeeze(ei2/N)\n",
        "        nEpocas += 1\n",
        "        evec = np.append(evec, np.squeeze(ei2/N))\n",
        "        erroEpoca = evec[nEpocas]\n",
        "\n",
        "    return w, z, evec\n",
        "    \n",
        "def yMLP(x, z, w):\n",
        "  x = np.append(x, np.ones((x.shape[0],1)), axis = 1)\n",
        "  h_hat = activation_h(np.dot(x,z))\n",
        "  h_bias = np.append(h_hat, np.ones((h_hat.shape[0], 1)), axis = 1)\n",
        "  output = np.dot(h_bias, w)\n",
        "  yEval = activation_y(output)\n",
        "  \n",
        "  return yEval\n",
        "\n",
        "def errorCalc(yEval, actualClass):\n",
        "    error = np.multiply(actualClass != yEval, 1)\n",
        "    meanError = np.mean(error)\n",
        "    stdError = np.std(error)\n",
        "    accuracy = 1 - meanError\n",
        "    errorTest = np.dot(error, error.T)\n",
        "    errorTest_MS = np.mean(errorTest)\n",
        "\n",
        "    return accuracy, stdError, errorTest_MS"
      ],
      "metadata": {
        "id": "FhrjbRsvkL4B"
      },
      "execution_count": null,
      "outputs": []
    },
    {
      "cell_type": "markdown",
      "source": [
        "##1.2.1 Conexão com banco de dados"
      ],
      "metadata": {
        "id": "wK2w2XGZ1P1t"
      }
    },
    {
      "cell_type": "code",
      "source": [
        "dataFrameXOR = pd.read_csv('aerospace_engineering_ai_activities/secondList/dataset/heart')\n",
        "dataFrameXOR = shuffle(dataFrameXOR)"
      ],
      "metadata": {
        "id": "sytQgHX51WjA"
      },
      "execution_count": null,
      "outputs": []
    },
    {
      "cell_type": "markdown",
      "source": [
        "Preparação dos dados: 70% treino e 30% teste."
      ],
      "metadata": {
        "id": "LKyuQy-_yBv4"
      }
    },
    {
      "cell_type": "code",
      "source": [
        "N = len(dataFrameXOR)\n",
        "\n",
        "# 70% for train and 30% for test\n",
        "trainSize = int(0.7*N)\n",
        "testSize = N - trainSize\n",
        "\n",
        "trainData = dataFrameXOR.head(trainSize)\n",
        "testDate = dataFrameXOR.tail(testSize)\n",
        "\n",
        "#Data train\n",
        "x1_train = trainData[trainData['classes'] == 1]['x.1'].to_numpy()\n",
        "x1_train = np.resize(x1_train, (trainSize, 1))\n",
        "y1_train = trainData[trainData['classes'] == 1]['x.2'].to_numpy()\n",
        "y1_train = np.resize(y1_train, (trainSize, 1))\n",
        "\n",
        "x2_train = trainData[trainData['classes'] == 2]['x.1'].to_numpy()\n",
        "x2_train = np.resize(x2_train, (trainSize, 1))\n",
        "y2_train = trainData[trainData['classes'] == 2]['x.2'].to_numpy()\n",
        "y2_train = np.resize(y2_train, (trainSize, 1))\n",
        "\n",
        "#Data test\n",
        "x1_test = testDate[testDate['classes'] == 1]['x.1'].to_numpy()\n",
        "x1_test = np.resize(x1_test, (testSize, 1))\n",
        "y1_test = testDate[testDate['classes'] == 1]['x.2'].to_numpy()\n",
        "y1_test = np.resize(y1_test, (testSize, 1))\n",
        "\n",
        "x2_test = testDate[testDate['classes'] == 2]['x.1'].to_numpy()\n",
        "x2_test = np.resize(x2_test, (testSize, 1))\n",
        "y2_test = testDate[testDate['classes'] == 2]['x.2'].to_numpy()\n",
        "y2_test = np.resize(y2_test, (testSize, 1))\n",
        "\n",
        "# PLOT\n",
        "plt.scatter(x1_train, y1_train, color='b')\n",
        "plt.scatter(x2_train, y2_train, color='r')\n",
        "plt.scatter(x1_test, y1_test, color='b', facecolor='none')\n",
        "plt.scatter(x2_test, y2_test, color='r', facecolor='none')\n",
        "plt.legend(['Train 1', 'Train 2', 'Test 1', 'Test 2'])\n",
        "plt.show()"
      ],
      "metadata": {
        "id": "UgFBaC7RyD4m",
        "outputId": "924bb124-23f1-49b1-84c7-53614206b4c4",
        "colab": {
          "base_uri": "https://localhost:8080/"
        }
      },
      "execution_count": null,
      "outputs": [
        {
          "output_type": "display_data",
          "data": {
            "image/png": "[encoded data removed]",
            "text/plain": [
              "<Figure size 432x288 with 1 Axes>"
            ]
          },
          "metadata": {
            "needs_background": "light"
          }
        }
      ]
    }
  ]
}